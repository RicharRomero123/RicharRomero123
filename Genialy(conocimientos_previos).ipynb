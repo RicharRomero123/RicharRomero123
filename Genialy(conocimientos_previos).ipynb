{
  "nbformat": 4,
  "nbformat_minor": 0,
  "metadata": {
    "colab": {
      "name": "Genialy(conocimientos previos)  ",
      "provenance": [],
      "authorship_tag": "ABX9TyNo7mPG1s2S15rl/tkkOvR6",
      "include_colab_link": true
    },
    "kernelspec": {
      "name": "python3",
      "display_name": "Python 3"
    },
    "language_info": {
      "name": "python"
    }
  },
  "cells": [
    {
      "cell_type": "markdown",
      "metadata": {
        "id": "view-in-github",
        "colab_type": "text"
      },
      "source": [
        "<a href=\"https://colab.research.google.com/github/RicharRomero123/RicharRomero123/blob/main/Genialy(conocimientos_previos).ipynb\" target=\"_parent\"><img src=\"https://colab.research.google.com/assets/colab-badge.svg\" alt=\"Open In Colab\"/></a>"
      ]
    },
    {
      "cell_type": "markdown",
      "metadata": {
        "id": "vdMll1-b0ec0"
      },
      "source": [
        "# Conocimientos Previos\n",
        "###1. ¿CUÁLES SON LAS DIFERENCIAS ENTRE STRUCT Y CLASS?\n",
        "Los componentes de un STRUCT son publicos mientras que lo de  un CLASS son privados.\n",
        "### 2. ¿QUÉ SON LA HERENCIA TIPO PUBLICO Y PROTEGIDO?\n",
        "herencia de tipo publico son todo elementos publicos conservan y las herencia de  tipo protegido, herencia de tipo protegido son son todo elemento publico que adquiere acceso protegido.\n",
        "### 3. ¿PODEMOS UTILIZAR UNA FUNCIÓN SOBRESCRITA DE LA CLASE BASE EN LA CLASE DERIVADA?\n",
        "Si se puede heredar atributos y metodos de la clase padre  a sus clase hijo\n",
        "### 4. ¿CÓMO SE CREA UNA CLASE ABSTRACTA?\n",
        "La clase abstracta se crea mediante metodos pero sin la implementacion de  ellos.\n",
        "### 5. ¿QUÉ PASA SI CREO UN OBJETO DE UNA CLASE ABSTRACTA, MUESTRA UN ERROR O COMPILA CON ÉXITO?\n",
        "### 6. ¿POR QUÉ CREAMOS EL DESTRUCTOR Y QUÉ HAY DENTRO DEL DESTRUCTOR?\n",
        "\n",
        "El destructor es un método de la clase que se usa para destruir objetos del tipo de la clase, no tiene parámetros de entrada ni valor de retorno.\n",
        "###7. ¿CÓMO SE ASIGNA LA MEMORIA EN C++?\n",
        "varias formas de asignar esa dirección, empleando el operador &, asignando directamente el puntero a un arreglo o mediante un número entero que represente una dirección de memoria conocida y aplicándole a este número una conversión explícita .\n",
        "### 8. ¿HA UTILIZADO LA SOBRECARGA DE OPERADORES EN SU PROYECTO Y CÓMO?\n",
        "no, nolo use \n",
        "### 9. ¿DIFERENCIA ENTRE ENCAPSULAMIENTO Y ABSTRACCIÓN?\n",
        "La abstracción es la habilidad de ignorar los detalles de las partes para enfocar la atención en un nivel más alto de un problema. El encapsulamiento sucede cuando algo es envuelto en una capa protectora.\n",
        "### 10. CUANDO LA MISMA FUNCIÓN EXISTE TANTO EN LA CLASE BASE COMO EN LA CLASE DERIVADA, ¿ QUÉ FUNCIÓN ES EJECUTADA?\n",
        "es ejecutada la funcion de la clase base \n",
        "### 11. ¿CÓMO PODEMOS UTILIZAR EL CONSTRUCTOR DE LA CLASE BASE CREANDO UN OBJETO DE LA CLASE DERIVADA?\n",
        "Lo podemos usar para agregar o reemplazar métodos y propiedades según sea necesario.\n",
        "### 12. ¿QUÉ ES LA HERENCIA Y CÓMO LO UTILIZÓ EN SU PROYECTO?\n",
        "la herencia nos permite pasar variables y funcionalidades que se han definido en otras clases. en mi proyecto final lo use para pasara tributos y metodos de las clase padre.\n",
        "### 13. ¿QUE ES NAMESPACE STD?\n",
        "Es una forma de crear un bloque, y que todas las funciones que estén dentro del mismo.\n",
        "### 14. ¿POR QUÉ CREAMOS UNA CLASE ABSTRACTA?\n",
        "Para definir qué se debe hacer pero no el cómo se debe hacer\n",
        "### 15. ¿QUÉ ES LA MEMORIA TIPO PILA Y CÓMO FUNCIONA?\n",
        "Es una memoria de almacenamiento temporal. Es una estructura de datos de tipo secuencial.\n",
        "### 16. ¿CÓMO HA UTILIZADO EL POLIMORFISMO EN SU TRABAJO FINAL DE CURSO?\n",
        "Lo use para enviar mensajes sintácticamente iguales a objetos de tipos distintos.\n",
        "### 17. ¿QUÉ ES EL RETRASO EN LA VINCULACIÓN (LATE BINDING)?\n",
        "### 18. ¿QUÉ ESTRUCTURA DE DATOS HA UTILIZADO EN SU TRABAJO FINAL DE CURSO ?\n",
        "Utilize arrays y vectores.\n",
        "### 19. ¿POR QUÉ CERRAR EL ARCHIVO? ¿ES NECESARIO CERRARLO O SE CERRARÁ AUTOMÁTICAMENTE AL SALIR DEL PROGRAMA?\n",
        "Se tiene que cerrar para liberar memoria.\n",
        "### 20. ¿QUÉ ES OBJECT SLICING?\n",
        " Es un tipo de subclase se copia en un objeto de tipo superclase: la copia de superclase no tendrá ninguna de las variables miembro definidas en la subclase.\n",
        " ### 21. ¿QUÉ OBJETOS STL HA UTILIZADO EN SU PROYECTO FINAL Y POR QUÉ?\n",
        " no, no lo use.\n",
        " ### 22. ¿POR QUÉ ESCRIBIMOS EL CONSTRUCTOR? \n",
        " Porque llama automáticamente siempre que se declara un objeto de esa clase.\n",
        " ### 23. ¿QUÉ PASARÍA SI NO ESCRIBIMOS EL CONSTRUCTOR?\n",
        " No se podria incializar los objetos.\n",
        " ### 24. ¿PUEDO SOBRECARGAR EL DESTRUCTOR?, ¿ POR QUÉ?\n",
        " Una función destructor no puede especificar argumentos, no devuelve valor alguno, ni puede ser sobrecargado (homonimia). Un destructor se invoca cuando deja de existir el ámbito del respectivo objeto.\n",
        " ### 25. ¿DIFERENCIA ENTRE TUPLA Y VECTOR?\n",
        " Un vector es una secuencia ordenada de elementos que permite duplicados. Un Tuple es una secuencia ordenada de elementos de una longitud determinada.\n",
        " ### 26. ¿CUÁL ES EL ORDEN DE LLAMADA A LOS CONSTRUCTORES CUANDO SE CREA UN OBJETO DE UNA CLASE DERIVADA?\n",
        " Primero, se llama al constructor base, después los miembros de la clase base se inicializan en el orden en que aparecen en la declaración de clase y después se llama al constructor derivado.\n",
        " ### 27. ¿DIFERENCIA LA IMPLEMENTACION DE UNA RELACIÓN COMPOSICIÓN Y AGREGACIÓN?\n",
        "La agregación es un tipo de asociación que indica que una clase es parte de otra clase. Los componentes pueden ser compartidos por varios compuestos de la misma asociación de agregación o de varias asociaciones de agregación distintas\n",
        ".\n",
        "### 28. ¿CÓMO HACER EL MANEJO DE EXCEPCIONES EN C++?\n",
        "Cuando surgen problemas, el programa emitirá una excepción.\n",
        "### 29. ¿PUEDE EJEMPLIFICAR UNA RELACIÓN DE DEPENDENCIA?\n",
        "un ejemplo claro es la de un auto y sus ruedas el auto no puede funcionar sin gasolina, ello es dependia.\n",
        "### 30. ¿UNA CLASE PUEDE HEREDAR DE 2 CLASES BASE?\n",
        "si puede heredar varias clases.\n",
        "### 31. ¿PUEDE IDENTIFICAR UNA RELACIÓN DE ASOCIACIÓN?\n",
        " Las funciones de una pila son funcion de composicion como las de un telefono celular tambien y el mismo ejemplo del auto pero con las ruedas.\n"
      ]
    }
  ]
}